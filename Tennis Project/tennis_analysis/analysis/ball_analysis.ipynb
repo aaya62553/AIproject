{
 "cells": [
  {
   "cell_type": "code",
   "execution_count": 1,
   "metadata": {},
   "outputs": [],
   "source": [
    "import pickle\n",
    "import pandas as pd\n",
    "import matplotlib.pyplot as plt"
   ]
  },
  {
   "cell_type": "code",
   "execution_count": 4,
   "metadata": {},
   "outputs": [],
   "source": [
    "with open(\"../tracker_stubs/ball_detections.pkl\", \"rb\") as f:\n",
    "    ball_positions = pickle.load(f)"
   ]
  },
  {
   "cell_type": "code",
   "execution_count": 5,
   "metadata": {},
   "outputs": [],
   "source": [
    "ball_positions=[x.get(1,[]) for x in ball_positions]\n",
    "df_ball_positions=pd.DataFrame(ball_positions,columns=[\"x1\",\"y1\",\"x2\",\"y2\"])\n",
    "df_ball_positions=df_ball_positions.interpolate(method=\"linear\")\n",
    "df_ball_positions=df_ball_positions.bfill()"
   ]
  },
  {
   "cell_type": "code",
   "execution_count": 7,
   "metadata": {},
   "outputs": [],
   "source": [
    "df_ball_positions[\"mid_y\"]=(df_ball_positions[\"y1\"]+df_ball_positions[\"y2\"])/2\n",
    "df_ball_positions[\"mid_y_rolling_mean\"]=df_ball_positions[\"mid_y\"].rolling(window=5,min_periods=1,center=False).mean()"
   ]
  },
  {
   "cell_type": "code",
   "execution_count": 8,
   "metadata": {},
   "outputs": [
    {
     "data": {
      "text/html": [
       "<div>\n",
       "<style scoped>\n",
       "    .dataframe tbody tr th:only-of-type {\n",
       "        vertical-align: middle;\n",
       "    }\n",
       "\n",
       "    .dataframe tbody tr th {\n",
       "        vertical-align: top;\n",
       "    }\n",
       "\n",
       "    .dataframe thead th {\n",
       "        text-align: right;\n",
       "    }\n",
       "</style>\n",
       "<table border=\"1\" class=\"dataframe\">\n",
       "  <thead>\n",
       "    <tr style=\"text-align: right;\">\n",
       "      <th></th>\n",
       "      <th>x1</th>\n",
       "      <th>y1</th>\n",
       "      <th>x2</th>\n",
       "      <th>y2</th>\n",
       "      <th>mid_y</th>\n",
       "      <th>mid_y_rolling_mean</th>\n",
       "    </tr>\n",
       "  </thead>\n",
       "  <tbody>\n",
       "    <tr>\n",
       "      <th>0</th>\n",
       "      <td>895.013855</td>\n",
       "      <td>615.194763</td>\n",
       "      <td>912.229797</td>\n",
       "      <td>632.967102</td>\n",
       "      <td>624.080933</td>\n",
       "      <td>624.080933</td>\n",
       "    </tr>\n",
       "    <tr>\n",
       "      <th>1</th>\n",
       "      <td>895.013855</td>\n",
       "      <td>615.194763</td>\n",
       "      <td>912.229797</td>\n",
       "      <td>632.967102</td>\n",
       "      <td>624.080933</td>\n",
       "      <td>624.080933</td>\n",
       "    </tr>\n",
       "    <tr>\n",
       "      <th>2</th>\n",
       "      <td>877.954651</td>\n",
       "      <td>631.202362</td>\n",
       "      <td>896.236084</td>\n",
       "      <td>650.781097</td>\n",
       "      <td>640.991730</td>\n",
       "      <td>629.717865</td>\n",
       "    </tr>\n",
       "    <tr>\n",
       "      <th>3</th>\n",
       "      <td>860.895447</td>\n",
       "      <td>647.209961</td>\n",
       "      <td>880.242371</td>\n",
       "      <td>668.595093</td>\n",
       "      <td>657.902527</td>\n",
       "      <td>636.764030</td>\n",
       "    </tr>\n",
       "    <tr>\n",
       "      <th>4</th>\n",
       "      <td>847.586365</td>\n",
       "      <td>660.940531</td>\n",
       "      <td>865.777649</td>\n",
       "      <td>680.618673</td>\n",
       "      <td>670.779602</td>\n",
       "      <td>643.567145</td>\n",
       "    </tr>\n",
       "    <tr>\n",
       "      <th>...</th>\n",
       "      <td>...</td>\n",
       "      <td>...</td>\n",
       "      <td>...</td>\n",
       "      <td>...</td>\n",
       "      <td>...</td>\n",
       "      <td>...</td>\n",
       "    </tr>\n",
       "    <tr>\n",
       "      <th>209</th>\n",
       "      <td>1233.585571</td>\n",
       "      <td>741.442383</td>\n",
       "      <td>1246.004883</td>\n",
       "      <td>753.956909</td>\n",
       "      <td>747.699646</td>\n",
       "      <td>728.928456</td>\n",
       "    </tr>\n",
       "    <tr>\n",
       "      <th>210</th>\n",
       "      <td>1233.471191</td>\n",
       "      <td>741.149780</td>\n",
       "      <td>1246.104248</td>\n",
       "      <td>754.081787</td>\n",
       "      <td>747.615784</td>\n",
       "      <td>741.280266</td>\n",
       "    </tr>\n",
       "    <tr>\n",
       "      <th>211</th>\n",
       "      <td>1233.500366</td>\n",
       "      <td>741.151428</td>\n",
       "      <td>1245.904297</td>\n",
       "      <td>753.886597</td>\n",
       "      <td>747.519012</td>\n",
       "      <td>747.489093</td>\n",
       "    </tr>\n",
       "    <tr>\n",
       "      <th>212</th>\n",
       "      <td>1233.129639</td>\n",
       "      <td>740.996338</td>\n",
       "      <td>1245.485107</td>\n",
       "      <td>753.604614</td>\n",
       "      <td>747.300476</td>\n",
       "      <td>747.530585</td>\n",
       "    </tr>\n",
       "    <tr>\n",
       "      <th>213</th>\n",
       "      <td>1233.006836</td>\n",
       "      <td>740.767334</td>\n",
       "      <td>1245.714478</td>\n",
       "      <td>753.475586</td>\n",
       "      <td>747.121460</td>\n",
       "      <td>747.451276</td>\n",
       "    </tr>\n",
       "  </tbody>\n",
       "</table>\n",
       "<p>214 rows × 6 columns</p>\n",
       "</div>"
      ],
      "text/plain": [
       "              x1          y1           x2          y2       mid_y  \\\n",
       "0     895.013855  615.194763   912.229797  632.967102  624.080933   \n",
       "1     895.013855  615.194763   912.229797  632.967102  624.080933   \n",
       "2     877.954651  631.202362   896.236084  650.781097  640.991730   \n",
       "3     860.895447  647.209961   880.242371  668.595093  657.902527   \n",
       "4     847.586365  660.940531   865.777649  680.618673  670.779602   \n",
       "..           ...         ...          ...         ...         ...   \n",
       "209  1233.585571  741.442383  1246.004883  753.956909  747.699646   \n",
       "210  1233.471191  741.149780  1246.104248  754.081787  747.615784   \n",
       "211  1233.500366  741.151428  1245.904297  753.886597  747.519012   \n",
       "212  1233.129639  740.996338  1245.485107  753.604614  747.300476   \n",
       "213  1233.006836  740.767334  1245.714478  753.475586  747.121460   \n",
       "\n",
       "     mid_y_rolling_mean  \n",
       "0            624.080933  \n",
       "1            624.080933  \n",
       "2            629.717865  \n",
       "3            636.764030  \n",
       "4            643.567145  \n",
       "..                  ...  \n",
       "209          728.928456  \n",
       "210          741.280266  \n",
       "211          747.489093  \n",
       "212          747.530585  \n",
       "213          747.451276  \n",
       "\n",
       "[214 rows x 6 columns]"
      ]
     },
     "execution_count": 8,
     "metadata": {},
     "output_type": "execute_result"
    }
   ],
   "source": [
    "df_ball_positions"
   ]
  },
  {
   "cell_type": "code",
   "execution_count": 11,
   "metadata": {},
   "outputs": [
    {
     "data": {
      "text/plain": [
       "[<matplotlib.lines.Line2D at 0x229bf7b5820>]"
      ]
     },
     "execution_count": 11,
     "metadata": {},
     "output_type": "execute_result"
    },
    {
     "data": {
      "image/png": "[encoded data removed]",
      "text/plain": [
       "<Figure size 640x480 with 1 Axes>"
      ]
     },
     "metadata": {},
     "output_type": "display_data"
    }
   ],
   "source": [
    "plt.plot(df_ball_positions[\"mid_y\"],label=\"mid_y\")\n",
    "plt.plot(df_ball_positions[\"mid_y_rolling_mean\"],label=\"mid_y_rolling_mean\")"
   ]
  },
  {
   "cell_type": "code",
   "execution_count": 10,
   "metadata": {},
   "outputs": [],
   "source": [
    "df_ball_positions[\"delta_y\"]=df_ball_positions[\"mid_y_rolling_mean\"].diff()"
   ]
  },
  {
   "cell_type": "code",
   "execution_count": 12,
   "metadata": {},
   "outputs": [
    {
     "data": {
      "text/plain": [
       "[<matplotlib.lines.Line2D at 0x229bf81cda0>]"
      ]
     },
     "execution_count": 12,
     "metadata": {},
     "output_type": "execute_result"
    },
    {
     "data": {
      "image/png": "[encoded data removed]",
      "text/plain": [
       "<Figure size 640x480 with 1 Axes>"
      ]
     },
     "metadata": {},
     "output_type": "display_data"
    }
   ],
   "source": [
    "plt.plot(df_ball_positions[\"delta_y\"],label=\"delta_y\")"
   ]
  },
  {
   "cell_type": "code",
   "execution_count": 13,
   "metadata": {},
   "outputs": [],
   "source": []
  },
  {
   "cell_type": "code",
   "execution_count": 31,
   "metadata": {},
   "outputs": [
    {
     "name": "stderr",
     "output_type": "stream",
     "text": [
      "C:\\Users\\aaron\\AppData\\Local\\Temp\\ipykernel_16336\\3157363530.py:22: FutureWarning: ChainedAssignmentError: behaviour will change in pandas 3.0!\n",
      "You are setting values through chained assignment. Currently this works in certain cases, but when using Copy-on-Write (which will become the default behaviour in pandas 3.0) this will never work to update the original DataFrame or Series, because the intermediate object on which we are setting values will behave as a copy.\n",
      "A typical example is when you are setting values in a column of a DataFrame, like:\n",
      "\n",
      "df[\"col\"][row_indexer] = value\n",
      "\n",
      "Use `df.loc[row_indexer, \"col\"] = values` instead, to perform the assignment in a single step and ensure this keeps updating the original `df`.\n",
      "\n",
      "See the caveats in the documentation: https://pandas.pydata.org/pandas-docs/stable/user_guide/indexing.html#returning-a-view-versus-a-copy\n",
      "\n",
      "  df_ball_positions[\"ball_hit\"].iloc[i]=1\n",
      "C:\\Users\\aaron\\AppData\\Local\\Temp\\ipykernel_16336\\3157363530.py:22: SettingWithCopyWarning: \n",
      "A value is trying to be set on a copy of a slice from a DataFrame\n",
      "\n",
      "See the caveats in the documentation: https://pandas.pydata.org/pandas-docs/stable/user_guide/indexing.html#returning-a-view-versus-a-copy\n",
      "  df_ball_positions[\"ball_hit\"].iloc[i]=1\n",
      "C:\\Users\\aaron\\AppData\\Local\\Temp\\ipykernel_16336\\3157363530.py:22: FutureWarning: ChainedAssignmentError: behaviour will change in pandas 3.0!\n",
      "You are setting values through chained assignment. Currently this works in certain cases, but when using Copy-on-Write (which will become the default behaviour in pandas 3.0) this will never work to update the original DataFrame or Series, because the intermediate object on which we are setting values will behave as a copy.\n",
      "A typical example is when you are setting values in a column of a DataFrame, like:\n",
      "\n",
      "df[\"col\"][row_indexer] = value\n",
      "\n",
      "Use `df.loc[row_indexer, \"col\"] = values` instead, to perform the assignment in a single step and ensure this keeps updating the original `df`.\n",
      "\n",
      "See the caveats in the documentation: https://pandas.pydata.org/pandas-docs/stable/user_guide/indexing.html#returning-a-view-versus-a-copy\n",
      "\n",
      "  df_ball_positions[\"ball_hit\"].iloc[i]=1\n",
      "C:\\Users\\aaron\\AppData\\Local\\Temp\\ipykernel_16336\\3157363530.py:22: SettingWithCopyWarning: \n",
      "A value is trying to be set on a copy of a slice from a DataFrame\n",
      "\n",
      "See the caveats in the documentation: https://pandas.pydata.org/pandas-docs/stable/user_guide/indexing.html#returning-a-view-versus-a-copy\n",
      "  df_ball_positions[\"ball_hit\"].iloc[i]=1\n",
      "C:\\Users\\aaron\\AppData\\Local\\Temp\\ipykernel_16336\\3157363530.py:22: FutureWarning: ChainedAssignmentError: behaviour will change in pandas 3.0!\n",
      "You are setting values through chained assignment. Currently this works in certain cases, but when using Copy-on-Write (which will become the default behaviour in pandas 3.0) this will never work to update the original DataFrame or Series, because the intermediate object on which we are setting values will behave as a copy.\n",
      "A typical example is when you are setting values in a column of a DataFrame, like:\n",
      "\n",
      "df[\"col\"][row_indexer] = value\n",
      "\n",
      "Use `df.loc[row_indexer, \"col\"] = values` instead, to perform the assignment in a single step and ensure this keeps updating the original `df`.\n",
      "\n",
      "See the caveats in the documentation: https://pandas.pydata.org/pandas-docs/stable/user_guide/indexing.html#returning-a-view-versus-a-copy\n",
      "\n",
      "  df_ball_positions[\"ball_hit\"].iloc[i]=1\n",
      "C:\\Users\\aaron\\AppData\\Local\\Temp\\ipykernel_16336\\3157363530.py:22: SettingWithCopyWarning: \n",
      "A value is trying to be set on a copy of a slice from a DataFrame\n",
      "\n",
      "See the caveats in the documentation: https://pandas.pydata.org/pandas-docs/stable/user_guide/indexing.html#returning-a-view-versus-a-copy\n",
      "  df_ball_positions[\"ball_hit\"].iloc[i]=1\n",
      "C:\\Users\\aaron\\AppData\\Local\\Temp\\ipykernel_16336\\3157363530.py:22: FutureWarning: ChainedAssignmentError: behaviour will change in pandas 3.0!\n",
      "You are setting values through chained assignment. Currently this works in certain cases, but when using Copy-on-Write (which will become the default behaviour in pandas 3.0) this will never work to update the original DataFrame or Series, because the intermediate object on which we are setting values will behave as a copy.\n",
      "A typical example is when you are setting values in a column of a DataFrame, like:\n",
      "\n",
      "df[\"col\"][row_indexer] = value\n",
      "\n",
      "Use `df.loc[row_indexer, \"col\"] = values` instead, to perform the assignment in a single step and ensure this keeps updating the original `df`.\n",
      "\n",
      "See the caveats in the documentation: https://pandas.pydata.org/pandas-docs/stable/user_guide/indexing.html#returning-a-view-versus-a-copy\n",
      "\n",
      "  df_ball_positions[\"ball_hit\"].iloc[i]=1\n",
      "C:\\Users\\aaron\\AppData\\Local\\Temp\\ipykernel_16336\\3157363530.py:22: SettingWithCopyWarning: \n",
      "A value is trying to be set on a copy of a slice from a DataFrame\n",
      "\n",
      "See the caveats in the documentation: https://pandas.pydata.org/pandas-docs/stable/user_guide/indexing.html#returning-a-view-versus-a-copy\n",
      "  df_ball_positions[\"ball_hit\"].iloc[i]=1\n"
     ]
    }
   ],
   "source": [
    "\n",
    "\n",
    "\n",
    "df_ball_positions[\"ball_hit\"]=0\n",
    "minimum_change_frames_for_hit=25\n",
    "#Parcourir les positions de la balle\n",
    "for i in range(1,len(df_ball_positions)-int(minimum_change_frames_for_hit*1.2)):\n",
    "    # Si la balle change de direction\n",
    "    negative_position_change=df_ball_positions[\"delta_y\"].iloc[i]>0 and df_ball_positions[\"delta_y\"].iloc[i+1]<0\n",
    "    positive_position_change=df_ball_positions[\"delta_y\"].iloc[i]<0 and df_ball_positions[\"delta_y\"].iloc[i+1]>0\n",
    "    if negative_position_change or positive_position_change:\n",
    "        change_count=0 #Represente le nombre de frames (max 25) ou la balle continue dans sa direction\n",
    "        # Parcourir les frames suivantes\n",
    "        for change_frame in range(i+1,i+int(minimum_change_frames_for_hit*1.2)+1):\n",
    "\n",
    "            # Tant que la balle continue dans la meme direction\n",
    "            negative_position_change_following_frame=df_ball_positions[\"delta_y\"].iloc[i]>0 and df_ball_positions[\"delta_y\"].iloc[change_frame]<0\n",
    "            positive_position_change_following_frame=df_ball_positions[\"delta_y\"].iloc[i]<0 and df_ball_positions[\"delta_y\"].iloc[change_frame]>0\n",
    "            if negative_position_change and negative_position_change_following_frame:\n",
    "                change_count+=1\n",
    "            elif positive_position_change and positive_position_change_following_frame:\n",
    "                change_count+=1\n",
    "    \n",
    "        if change_count>=minimum_change_frames_for_hit-1:\n",
    "            df_ball_positions[\"ball_hit\"].iloc[i]=1\n",
    "frame_nums_ball_hits=df_ball_positions[df_ball_positions[\"ball_hit\"]==1].index.tolist()\n",
    "#Le but de l'algo est de vérifier que la balle continue dans la meme direction pendant au moins 25 frames\n",
    "#Dans ce cas, on considère que la balle a été frappée\n",
    "#Sinon on considère que la balle n'a pas été frappée et on continue"
   ]
  },
  {
   "cell_type": "code",
   "execution_count": 32,
   "metadata": {},
   "outputs": [
    {
     "data": {
      "text/html": [
       "<div>\n",
       "<style scoped>\n",
       "    .dataframe tbody tr th:only-of-type {\n",
       "        vertical-align: middle;\n",
       "    }\n",
       "\n",
       "    .dataframe tbody tr th {\n",
       "        vertical-align: top;\n",
       "    }\n",
       "\n",
       "    .dataframe thead th {\n",
       "        text-align: right;\n",
       "    }\n",
       "</style>\n",
       "<table border=\"1\" class=\"dataframe\">\n",
       "  <thead>\n",
       "    <tr style=\"text-align: right;\">\n",
       "      <th></th>\n",
       "      <th>x1</th>\n",
       "      <th>y1</th>\n",
       "      <th>x2</th>\n",
       "      <th>y2</th>\n",
       "      <th>mid_y</th>\n",
       "      <th>mid_y_rolling_mean</th>\n",
       "      <th>delta_y</th>\n",
       "      <th>ball_hit</th>\n",
       "    </tr>\n",
       "  </thead>\n",
       "  <tbody>\n",
       "    <tr>\n",
       "      <th>11</th>\n",
       "      <td>777.697510</td>\n",
       "      <td>717.184814</td>\n",
       "      <td>796.941406</td>\n",
       "      <td>738.274170</td>\n",
       "      <td>727.729492</td>\n",
       "      <td>736.583539</td>\n",
       "      <td>6.239148</td>\n",
       "      <td>1</td>\n",
       "    </tr>\n",
       "    <tr>\n",
       "      <th>58</th>\n",
       "      <td>925.488611</td>\n",
       "      <td>241.277838</td>\n",
       "      <td>938.334485</td>\n",
       "      <td>254.123773</td>\n",
       "      <td>247.700806</td>\n",
       "      <td>242.809378</td>\n",
       "      <td>-1.481329</td>\n",
       "      <td>1</td>\n",
       "    </tr>\n",
       "    <tr>\n",
       "      <th>95</th>\n",
       "      <td>623.538757</td>\n",
       "      <td>748.427063</td>\n",
       "      <td>641.576782</td>\n",
       "      <td>767.019897</td>\n",
       "      <td>757.723480</td>\n",
       "      <td>775.551379</td>\n",
       "      <td>0.757819</td>\n",
       "      <td>1</td>\n",
       "    </tr>\n",
       "    <tr>\n",
       "      <th>131</th>\n",
       "      <td>716.175812</td>\n",
       "      <td>228.773865</td>\n",
       "      <td>729.044312</td>\n",
       "      <td>242.482552</td>\n",
       "      <td>235.628208</td>\n",
       "      <td>235.258604</td>\n",
       "      <td>-0.799416</td>\n",
       "      <td>1</td>\n",
       "    </tr>\n",
       "  </tbody>\n",
       "</table>\n",
       "</div>"
      ],
      "text/plain": [
       "             x1          y1          x2          y2       mid_y  \\\n",
       "11   777.697510  717.184814  796.941406  738.274170  727.729492   \n",
       "58   925.488611  241.277838  938.334485  254.123773  247.700806   \n",
       "95   623.538757  748.427063  641.576782  767.019897  757.723480   \n",
       "131  716.175812  228.773865  729.044312  242.482552  235.628208   \n",
       "\n",
       "     mid_y_rolling_mean   delta_y  ball_hit  \n",
       "11           736.583539  6.239148         1  \n",
       "58           242.809378 -1.481329         1  \n",
       "95           775.551379  0.757819         1  \n",
       "131          235.258604 -0.799416         1  "
      ]
     },
     "execution_count": 32,
     "metadata": {},
     "output_type": "execute_result"
    }
   ],
   "source": [
    "df_ball_positions[df_ball_positions[\"ball_hit\"]==1]"
   ]
  },
  {
   "cell_type": "code",
   "execution_count": 33,
   "metadata": {},
   "outputs": [
    {
     "data": {
      "text/plain": [
       "[11, 58, 95, 131]"
      ]
     },
     "execution_count": 33,
     "metadata": {},
     "output_type": "execute_result"
    }
   ],
   "source": [
    "df_ball_positions[df_ball_positions[\"ball_hit\"]==1].index.tolist()"
   ]
  },
  {
   "cell_type": "code",
   "execution_count": null,
   "metadata": {},
   "outputs": [],
   "source": []
  }
 ],
 "metadata": {
  "kernelspec": {
   "display_name": "tennis",
   "language": "python",
   "name": "python3"
  },
  "language_info": {
   "codemirror_mode": {
    "name": "ipython",
    "version": 3
   },
   "file_extension": ".py",
   "mimetype": "text/x-python",
   "name": "python",
   "nbconvert_exporter": "python",
   "pygments_lexer": "ipython3",
   "version": "3.12.5"
  }
 },
 "nbformat": 4,
 "nbformat_minor": 2
}
