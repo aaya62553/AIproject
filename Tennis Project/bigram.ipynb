{
  "nbformat": 4,
  "nbformat_minor": 0,
  "metadata": {
    "colab": {
      "provenance": [],
      "gpuType": "T4"
    },
    "kernelspec": {
      "name": "python3",
      "display_name": "Python 3"
    },
    "language_info": {
      "name": "python"
    },
    "accelerator": "GPU"
  },
  "cells": [
    {
      "cell_type": "markdown",
      "source": [
        "# Import Data"
      ],
      "metadata": {
        "id": "dn9rSsviRXVQ"
      }
    },
    {
      "cell_type": "code",
      "execution_count": 1,
      "metadata": {
        "colab": {
          "base_uri": "https://localhost:8080/"
        },
        "id": "cMfDFQdeO9Jr",
        "outputId": "d40940c0-f50a-444e-d1d8-64777f422b0c"
      },
      "outputs": [
        {
          "output_type": "stream",
          "name": "stdout",
          "text": [
            "--2024-09-19 08:00:39--  https://raw.githubusercontent.com/karpathy/char-rnn/master/data/tinyshakespeare/input.txt\n",
            "Resolving raw.githubusercontent.com (raw.githubusercontent.com)... 185.199.108.133, 185.199.109.133, 185.199.110.133, ...\n",
            "Connecting to raw.githubusercontent.com (raw.githubusercontent.com)|185.199.108.133|:443... connected.\n",
            "HTTP request sent, awaiting response... 200 OK\n",
            "Length: 1115394 (1.1M) [text/plain]\n",
            "Saving to: ‘input.txt’\n",
            "\n",
            "input.txt           100%[===================>]   1.06M  --.-KB/s    in 0.02s   \n",
            "\n",
            "2024-09-19 08:00:39 (47.8 MB/s) - ‘input.txt’ saved [1115394/1115394]\n",
            "\n"
          ]
        }
      ],
      "source": [
        "!wget -O input.txt \"https://raw.githubusercontent.com/karpathy/char-rnn/master/data/tinyshakespeare/input.txt\"\n"
      ]
    },
    {
      "cell_type": "code",
      "source": [
        "import torch\n",
        "import torch.nn as nn\n",
        "from torch.nn import functional as F\n",
        "import matplotlib.pyplot as plt"
      ],
      "metadata": {
        "id": "3DgXkPFXPOdT"
      },
      "execution_count": 89,
      "outputs": []
    },
    {
      "cell_type": "code",
      "source": [
        "batch_size=16 #independent sequences process in parallel\n",
        "block_size=40 #context length for predictions\n",
        "max_iters = 10000\n",
        "eval_interval = 100\n",
        "learning_rate = 3e-3\n",
        "\n",
        "device = 'cuda' if torch.cuda.is_available() else 'cpu'"
      ],
      "metadata": {
        "id": "r-1K3wiPR0oJ"
      },
      "execution_count": 88,
      "outputs": []
    },
    {
      "cell_type": "code",
      "source": [
        "with open (\"input.txt\" , 'r', encoding=\"utf-8\") as f:\n",
        "  text=f.read()"
      ],
      "metadata": {
        "id": "8Hb8Z907PaZ_"
      },
      "execution_count": 4,
      "outputs": []
    },
    {
      "cell_type": "code",
      "source": [
        "chars=sorted(list(set(text)))\n",
        "vocab_size=len(chars)"
      ],
      "metadata": {
        "id": "m1yzxyDBPk5T"
      },
      "execution_count": 5,
      "outputs": []
    },
    {
      "cell_type": "markdown",
      "source": [
        "# Define Encoder and Decoder"
      ],
      "metadata": {
        "id": "xUipWxhIRbOi"
      }
    },
    {
      "cell_type": "code",
      "source": [
        "stoi={ch:i for i,ch in enumerate(chars)} #string to int\n",
        "itos={i:ch for i,ch in enumerate(chars)} #int to string\n",
        "encode = lambda s:[stoi[c] for c in s] #take a string and return a list of int\n",
        "decode = lambda s:\"\".join([itos[c] for c in s]) #take a list of int and return a str"
      ],
      "metadata": {
        "id": "q4UynlDcPloQ"
      },
      "execution_count": 6,
      "outputs": []
    },
    {
      "cell_type": "markdown",
      "source": [
        "# Data Encoding and Data Split"
      ],
      "metadata": {
        "id": "GsQSMfXNRSLz"
      }
    },
    {
      "cell_type": "code",
      "source": [
        "data=torch.tensor(encode(text),dtype=torch.long)\n",
        "n=int(0.9*len(data))\n",
        "train_data=data[:n]\n",
        "val_data=data[n:]"
      ],
      "metadata": {
        "id": "cfaqDP4WQEeg"
      },
      "execution_count": 7,
      "outputs": []
    },
    {
      "cell_type": "markdown",
      "source": [
        "# Data Loading"
      ],
      "metadata": {
        "id": "SkhRj8mFRgYp"
      }
    },
    {
      "cell_type": "code",
      "source": [
        "def get_batch(split):\n",
        "  data=train_data if split==\"train\" else val_data\n",
        "  ix =torch.randint(len(data)-block_size,(batch_size,)) #we can not go over block_size\n",
        "  x=torch.stack([data[i:i+block_size] for i in ix])\n",
        "  y=torch.stack([data[i+1:i+block_size+1] for i in ix])\n",
        "  x,y=x.to(device), y.to(device)\n",
        "  return x,y\n",
        "# get_batch(\"train\")"
      ],
      "metadata": {
        "colab": {
          "base_uri": "https://localhost:8080/"
        },
        "id": "upt7VUeKQotQ",
        "outputId": "07c46a49-b42a-4e74-bc85-ab4a134d0374"
      },
      "execution_count": 9,
      "outputs": [
        {
          "output_type": "execute_result",
          "data": {
            "text/plain": [
              "(tensor([[43, 52,  1, 46, 43, 56, 43,  6],\n",
              "         [39, 52, 42,  1, 59, 57, 11,  0],\n",
              "         [ 1, 41, 53, 59, 57, 47, 52,  1],\n",
              "         [32, 39, 49, 43,  1, 59, 54,  1]], device='cuda:0'),\n",
              " tensor([[52,  1, 46, 43, 56, 43,  6,  1],\n",
              "         [52, 42,  1, 59, 57, 11,  0, 32],\n",
              "         [41, 53, 59, 57, 47, 52,  1, 57],\n",
              "         [39, 49, 43,  1, 59, 54,  1, 58]], device='cuda:0'))"
            ]
          },
          "metadata": {},
          "execution_count": 9
        }
      ]
    },
    {
      "cell_type": "code",
      "source": [
        "@torch.no_grad()\n",
        "def estimate_loss(eval_iters):\n",
        "  out={}\n",
        "  model.eval()\n",
        "  for split in [\"train\",\"val\"]:\n",
        "    losses=torch.zeros(eval_iters)\n",
        "    for k in range(eval_iters):\n",
        "      X,Y=get_batch(split)\n",
        "      logits,loss=model(X,Y)\n",
        "      losses[k]=loss.item()\n",
        "    out[split]=losses.mean()\n",
        "  model.train()\n",
        "  return out"
      ],
      "metadata": {
        "id": "vXloWzMubT5U"
      },
      "execution_count": 77,
      "outputs": []
    },
    {
      "cell_type": "markdown",
      "source": [
        "# Bigram Model"
      ],
      "metadata": {
        "id": "QBnGSGx3TXOE"
      }
    },
    {
      "cell_type": "code",
      "source": [
        "class BigramLanguageModel(nn.Module):\n",
        "  def __init__(self,vocab_size):\n",
        "    super().__init__()\n",
        "    self.token_embedding_table=nn.Embedding(vocab_size,vocab_size) #for each char in data, attribute a number for each str in vocab\n",
        "\n",
        "  def forward(self,idx,targets=None):\n",
        "    #idx (x) and targets (y) are shapes (B,T)\n",
        "\n",
        "    logits=self.token_embedding_table(idx) #(Batch (number of sequences), Time (len of sequences), Channel (vocab_size))\n",
        "\n",
        "    if targets is None:\n",
        "      loss=None\n",
        "    else:\n",
        "      B,T,C=logits.shape\n",
        "      logits_reshape=logits.view(B*T,C) #reshape (concatenate)\n",
        "      targets=targets.view(B*T)\n",
        "      loss=F.cross_entropy(logits_reshape,targets)\n",
        "    return logits,loss\n",
        "\n",
        "  def generate(self,idx,max_new_tokens):\n",
        "    for _ in range(max_new_tokens):\n",
        "      logits,loss=self.forward(idx)\n",
        "      logits=logits[:,-1,:] #take the 2 last str of each sequences for every batches -> become (B,C)\n",
        "      probs=F.softmax(logits,dim=-1) #get probabilites from logits\n",
        "      idx_next=torch.multinomial(probs,num_samples=1) #take a list of probabilites and return the index of the prob in the list which as been peeked\n",
        "      idx=torch.cat((idx,idx_next),dim=1) #concatenate the input (idx) and the predictions which as been made\n",
        "    return idx"
      ],
      "metadata": {
        "id": "frvj2miRRMol"
      },
      "execution_count": 91,
      "outputs": []
    },
    {
      "cell_type": "code",
      "source": [
        "model=BigramLanguageModel(vocab_size).to(device)"
      ],
      "metadata": {
        "id": "uHLAhT7PbI6s"
      },
      "execution_count": 92,
      "outputs": []
    },
    {
      "cell_type": "code",
      "source": [
        "optimizer=torch.optim.AdamW(model.parameters(),lr=learning_rate)"
      ],
      "metadata": {
        "id": "MTl0q606b5mS"
      },
      "execution_count": 93,
      "outputs": []
    },
    {
      "cell_type": "markdown",
      "source": [
        "# Model Training"
      ],
      "metadata": {
        "id": "WeXJptJuer2M"
      }
    },
    {
      "cell_type": "code",
      "source": [
        "history={\"train\":[],\"val\":[]}\n",
        "for iter in range(max_iters):\n",
        "  if iter%eval_interval==0:\n",
        "    losses=estimate_loss(100)\n",
        "    history[\"train\"].append(losses[\"train\"])\n",
        "    history[\"val\"].append(losses[\"val\"])\n",
        "\n",
        "    print(f\"Step {iter} - Train Loss : {losses['train']:.4f} Val Loss : {losses['val']:.4f}\")\n",
        "  xb,yb=get_batch(\"train\")\n",
        "  logits,loss=model(xb,yb)\n",
        "  optimizer.zero_grad(set_to_none=True)\n",
        "  loss.backward()\n",
        "  optimizer.step()\n"
      ],
      "metadata": {
        "colab": {
          "base_uri": "https://localhost:8080/"
        },
        "id": "d8xKyqQRdFAh",
        "outputId": "8294dbd9-6d23-4ac3-f48d-c3a9b8fb977e"
      },
      "execution_count": 94,
      "outputs": [
        {
          "output_type": "stream",
          "name": "stdout",
          "text": [
            "Step 0 - Train Loss : 4.5366 Val Loss : 4.5559\n",
            "Step 100 - Train Loss : 4.1737 Val Loss : 4.1905\n",
            "Step 200 - Train Loss : 3.8514 Val Loss : 3.8700\n",
            "Step 300 - Train Loss : 3.5862 Val Loss : 3.5984\n",
            "Step 400 - Train Loss : 3.3627 Val Loss : 3.3785\n",
            "Step 500 - Train Loss : 3.1797 Val Loss : 3.1893\n",
            "Step 600 - Train Loss : 3.0262 Val Loss : 3.0402\n",
            "Step 700 - Train Loss : 2.9162 Val Loss : 2.9290\n",
            "Step 800 - Train Loss : 2.8262 Val Loss : 2.8364\n",
            "Step 900 - Train Loss : 2.7550 Val Loss : 2.7661\n",
            "Step 1000 - Train Loss : 2.6989 Val Loss : 2.7200\n",
            "Step 1100 - Train Loss : 2.6632 Val Loss : 2.6708\n",
            "Step 1200 - Train Loss : 2.6234 Val Loss : 2.6405\n",
            "Step 1300 - Train Loss : 2.5991 Val Loss : 2.6190\n",
            "Step 1400 - Train Loss : 2.5779 Val Loss : 2.6027\n",
            "Step 1500 - Train Loss : 2.5589 Val Loss : 2.5820\n",
            "Step 1600 - Train Loss : 2.5462 Val Loss : 2.5577\n",
            "Step 1700 - Train Loss : 2.5349 Val Loss : 2.5496\n",
            "Step 1800 - Train Loss : 2.5194 Val Loss : 2.5370\n",
            "Step 1900 - Train Loss : 2.5213 Val Loss : 2.5411\n",
            "Step 2000 - Train Loss : 2.5057 Val Loss : 2.5282\n",
            "Step 2100 - Train Loss : 2.5155 Val Loss : 2.5246\n",
            "Step 2200 - Train Loss : 2.5017 Val Loss : 2.5190\n",
            "Step 2300 - Train Loss : 2.4972 Val Loss : 2.5173\n",
            "Step 2400 - Train Loss : 2.4936 Val Loss : 2.5095\n",
            "Step 2500 - Train Loss : 2.4847 Val Loss : 2.5089\n",
            "Step 2600 - Train Loss : 2.4877 Val Loss : 2.5094\n",
            "Step 2700 - Train Loss : 2.4781 Val Loss : 2.5040\n",
            "Step 2800 - Train Loss : 2.4772 Val Loss : 2.5079\n",
            "Step 2900 - Train Loss : 2.4759 Val Loss : 2.5047\n",
            "Step 3000 - Train Loss : 2.4819 Val Loss : 2.4878\n",
            "Step 3100 - Train Loss : 2.4794 Val Loss : 2.5079\n",
            "Step 3200 - Train Loss : 2.4686 Val Loss : 2.5030\n",
            "Step 3300 - Train Loss : 2.4699 Val Loss : 2.5064\n",
            "Step 3400 - Train Loss : 2.4704 Val Loss : 2.4980\n",
            "Step 3500 - Train Loss : 2.4682 Val Loss : 2.4986\n",
            "Step 3600 - Train Loss : 2.4717 Val Loss : 2.4982\n",
            "Step 3700 - Train Loss : 2.4735 Val Loss : 2.5009\n",
            "Step 3800 - Train Loss : 2.4618 Val Loss : 2.4935\n",
            "Step 3900 - Train Loss : 2.4690 Val Loss : 2.4953\n",
            "Step 4000 - Train Loss : 2.4628 Val Loss : 2.4902\n",
            "Step 4100 - Train Loss : 2.4696 Val Loss : 2.4956\n",
            "Step 4200 - Train Loss : 2.4684 Val Loss : 2.4732\n",
            "Step 4300 - Train Loss : 2.4721 Val Loss : 2.4811\n",
            "Step 4400 - Train Loss : 2.4652 Val Loss : 2.4800\n",
            "Step 4500 - Train Loss : 2.4621 Val Loss : 2.4938\n",
            "Step 4600 - Train Loss : 2.4599 Val Loss : 2.4848\n",
            "Step 4700 - Train Loss : 2.4645 Val Loss : 2.4793\n",
            "Step 4800 - Train Loss : 2.4573 Val Loss : 2.4896\n",
            "Step 4900 - Train Loss : 2.4535 Val Loss : 2.4867\n",
            "Step 5000 - Train Loss : 2.4620 Val Loss : 2.4930\n",
            "Step 5100 - Train Loss : 2.4588 Val Loss : 2.4872\n",
            "Step 5200 - Train Loss : 2.4609 Val Loss : 2.4787\n",
            "Step 5300 - Train Loss : 2.4576 Val Loss : 2.4872\n",
            "Step 5400 - Train Loss : 2.4577 Val Loss : 2.4853\n",
            "Step 5500 - Train Loss : 2.4619 Val Loss : 2.4895\n",
            "Step 5600 - Train Loss : 2.4601 Val Loss : 2.4900\n",
            "Step 5700 - Train Loss : 2.4594 Val Loss : 2.4827\n",
            "Step 5800 - Train Loss : 2.4564 Val Loss : 2.4793\n",
            "Step 5900 - Train Loss : 2.4573 Val Loss : 2.4787\n",
            "Step 6000 - Train Loss : 2.4509 Val Loss : 2.4892\n",
            "Step 6100 - Train Loss : 2.4495 Val Loss : 2.4831\n",
            "Step 6200 - Train Loss : 2.4609 Val Loss : 2.4799\n",
            "Step 6300 - Train Loss : 2.4588 Val Loss : 2.4966\n",
            "Step 6400 - Train Loss : 2.4574 Val Loss : 2.4773\n",
            "Step 6500 - Train Loss : 2.4623 Val Loss : 2.4889\n",
            "Step 6600 - Train Loss : 2.4567 Val Loss : 2.4813\n",
            "Step 6700 - Train Loss : 2.4574 Val Loss : 2.4826\n",
            "Step 6800 - Train Loss : 2.4574 Val Loss : 2.4937\n",
            "Step 6900 - Train Loss : 2.4530 Val Loss : 2.4872\n",
            "Step 7000 - Train Loss : 2.4577 Val Loss : 2.4842\n",
            "Step 7100 - Train Loss : 2.4539 Val Loss : 2.4825\n",
            "Step 7200 - Train Loss : 2.4550 Val Loss : 2.4835\n",
            "Step 7300 - Train Loss : 2.4566 Val Loss : 2.4857\n",
            "Step 7400 - Train Loss : 2.4594 Val Loss : 2.4862\n",
            "Step 7500 - Train Loss : 2.4602 Val Loss : 2.4830\n",
            "Step 7600 - Train Loss : 2.4504 Val Loss : 2.4722\n",
            "Step 7700 - Train Loss : 2.4579 Val Loss : 2.4847\n",
            "Step 7800 - Train Loss : 2.4524 Val Loss : 2.4853\n",
            "Step 7900 - Train Loss : 2.4497 Val Loss : 2.4834\n",
            "Step 8000 - Train Loss : 2.4628 Val Loss : 2.4855\n",
            "Step 8100 - Train Loss : 2.4583 Val Loss : 2.4847\n",
            "Step 8200 - Train Loss : 2.4573 Val Loss : 2.4794\n",
            "Step 8300 - Train Loss : 2.4492 Val Loss : 2.4858\n",
            "Step 8400 - Train Loss : 2.4608 Val Loss : 2.4826\n",
            "Step 8500 - Train Loss : 2.4564 Val Loss : 2.4853\n",
            "Step 8600 - Train Loss : 2.4469 Val Loss : 2.4867\n",
            "Step 8700 - Train Loss : 2.4612 Val Loss : 2.4718\n",
            "Step 8800 - Train Loss : 2.4577 Val Loss : 2.4824\n",
            "Step 8900 - Train Loss : 2.4430 Val Loss : 2.4818\n",
            "Step 9000 - Train Loss : 2.4678 Val Loss : 2.4773\n",
            "Step 9100 - Train Loss : 2.4528 Val Loss : 2.4866\n",
            "Step 9200 - Train Loss : 2.4513 Val Loss : 2.4917\n",
            "Step 9300 - Train Loss : 2.4526 Val Loss : 2.4908\n",
            "Step 9400 - Train Loss : 2.4578 Val Loss : 2.4796\n",
            "Step 9500 - Train Loss : 2.4583 Val Loss : 2.4816\n",
            "Step 9600 - Train Loss : 2.4572 Val Loss : 2.4808\n",
            "Step 9700 - Train Loss : 2.4590 Val Loss : 2.4830\n",
            "Step 9800 - Train Loss : 2.4540 Val Loss : 2.4822\n",
            "Step 9900 - Train Loss : 2.4569 Val Loss : 2.4775\n"
          ]
        }
      ]
    },
    {
      "cell_type": "code",
      "source": [
        "plt.plot([i*100 for i in range(len(history[\"train\"]))], history[\"train\"],label=\"Train Loss\")\n",
        "plt.plot([i*100 for i in range(len(history[\"val\"]))], history[\"val\"],label=\"Validation Loss\")\n",
        "plt.legend()\n",
        "plt.show()"
      ],
      "metadata": {
        "colab": {
          "base_uri": "https://localhost:8080/",
          "height": 430
        },
        "id": "S1ELHBpkfZJX",
        "outputId": "e0b21de6-5d20-45d6-b762-931a9e88db62"
      },
      "execution_count": 99,
      "outputs": [
        {
          "output_type": "display_data",
          "data": {
            "text/plain": [
              "<Figure size 640x480 with 1 Axes>"
            ],
            "image/png": "[encoded data removed]"
          },
          "metadata": {}
        }
      ]
    },
    {
      "cell_type": "markdown",
      "source": [
        "# Model testing"
      ],
      "metadata": {
        "id": "hr3ToFFgeuLw"
      }
    },
    {
      "cell_type": "code",
      "source": [
        "context=torch.zeros((1,1),dtype=torch.long,device=device)\n",
        "print(decode(model.generate(context,max_new_tokens=500)[0].tolist()))"
      ],
      "metadata": {
        "colab": {
          "base_uri": "https://localhost:8080/"
        },
        "id": "V1H-5aDEeMhg",
        "outputId": "3bf31493-e82d-4b5a-a7bc-93c9d31549fc"
      },
      "execution_count": 87,
      "outputs": [
        {
          "output_type": "stream",
          "name": "stdout",
          "text": [
            "\n",
            "Vowag! d opKavzand r ixce? h.\n",
            "\n",
            "Inthintcen'rst\n",
            "chend.\n",
            "BOTofrn-e\n",
            "ther thar, iros, wazagsws?\n",
            "Miveror qx?\n",
            "Tusury be, frur bec-utCofashin, Hxido,beld t hiWary imaima$j-fr e spee cor?whescr'd t knd\n",
            "uplet bucou!ve; nsDY whe, thowermapearurrv\n",
            "Pfohlavier h s!\n",
            "Thom Brel finjSIZowhakshapvenmiger ft?\n",
            "B.\n",
            "Be dr I itsins,-they, sidevechyo ang?or beHoun g llllire' theadruraten d y moliroy'nd m!3;shanest yode-LOBude; .\n",
            "Lathe t we tsth overve!3KI mitharhtos t t buV:\n",
            "LENUCFnsirs d h wilim-dq; owef pupethor tymeee \n"
          ]
        }
      ]
    }
  ]
}